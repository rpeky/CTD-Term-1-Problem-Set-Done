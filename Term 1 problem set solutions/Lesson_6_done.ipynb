{
 "cells": [
  {
   "cell_type": "markdown",
   "metadata": {
    "colab_type": "text",
    "deletable": false,
    "editable": false,
    "id": "J_cLQuljKEaA",
    "nbgrader": {
     "grade": false,
     "locked": true,
     "solution": false
    }
   },
   "source": [
    "### 10.014 Computational Thinking For Design, Fall 2023\n",
    "\n",
    "## Problem Set 6\n",
    "\n",
    "© Singapore University of Technology and Design, 2023\n"
   ]
  },
  {
   "cell_type": "markdown",
   "metadata": {
    "deletable": false,
    "editable": false,
    "nbgrader": {
     "grade": false,
     "locked": true,
     "solution": false
    }
   },
   "source": [
    "### Lesson Materials For This Problem Set \n",
    "\n",
    "Materials for [Lesson 6](https://colab.research.google.com/drive/1oN-BXfmosgTInh3b5tOJDysS2Iv5eBRs?usp=sharing)"
   ]
  },
  {
   "cell_type": "markdown",
   "metadata": {
    "deletable": false,
    "editable": false,
    "nbgrader": {
     "grade": false,
     "locked": true,
     "solution": false
    }
   },
   "source": [
    "### Problem 6.01 ```get_average_sublist(ls, n)```"
   ]
  },
  {
   "cell_type": "markdown",
   "metadata": {
    "deletable": false,
    "editable": false,
    "nbgrader": {
     "grade": false,
     "locked": true,
     "solution": false
    }
   },
   "source": [
    "This function takes in a list of lists ```ls``` as an input. \n",
    "\n",
    "The nested lists or sublists contain integers. \n",
    "\n",
    "This function returns the average of the elements in the sublist at index ```n```.\n",
    "\n",
    "The value returned must be rounded to one decimal place using the ```round()``` function. \n",
    "\n",
    "If ```n``` is out of bounds, return ```None```. Recall that list indices can be negative. \n",
    "\n",
    "To avoid any doubt, you may use built-in functions in this question.  \n",
    "```python\n",
    "a = [ [10, 12], [36, 40, 52], [10, 16, 17] ] \n",
    "print( get_average_sublist( a, 1) )\n",
    "print( get_average_sublist( a, 3) )\n",
    "```\n",
    "\n",
    "```python\n",
    "42.7\n",
    "None\n",
    "```"
   ]
  },
  {
   "cell_type": "code",
   "execution_count": 11,
   "metadata": {},
   "outputs": [],
   "source": [
    "def get_average_sublist(ls,n): \n",
    "    if n<len(ls)*-1 or n>=len(ls):\n",
    "        return\n",
    "    s=sum(ls[n])\n",
    "    return round(s/len(ls[n]),1)\n"
   ]
  },
  {
   "cell_type": "code",
   "execution_count": null,
   "metadata": {
    "collapsed": true,
    "deletable": false,
    "editable": false,
    "nbgrader": {
     "grade": true,
     "grade_id": "6.01test1",
     "locked": true,
     "points": "1",
     "solution": false
    }
   },
   "outputs": [],
   "source": [
    "###\n",
    "### AUTOGRADER TEST - DO NOT REMOVE\n",
    "###\n"
   ]
  },
  {
   "cell_type": "code",
   "execution_count": null,
   "metadata": {
    "collapsed": true,
    "deletable": false,
    "editable": false,
    "nbgrader": {
     "grade": true,
     "grade_id": "6.01test2",
     "locked": true,
     "points": "1",
     "solution": false
    }
   },
   "outputs": [],
   "source": [
    "###\n",
    "### AUTOGRADER TEST - DO NOT REMOVE\n",
    "###\n"
   ]
  },
  {
   "cell_type": "code",
   "execution_count": null,
   "metadata": {
    "collapsed": true,
    "deletable": false,
    "editable": false,
    "nbgrader": {
     "grade": true,
     "grade_id": "6.01test3",
     "locked": true,
     "points": "1",
     "solution": false
    }
   },
   "outputs": [],
   "source": [
    "###\n",
    "### AUTOGRADER TEST - DO NOT REMOVE\n",
    "###\n"
   ]
  },
  {
   "cell_type": "code",
   "execution_count": null,
   "metadata": {
    "collapsed": true,
    "deletable": false,
    "editable": false,
    "nbgrader": {
     "grade": true,
     "grade_id": "6.01test4",
     "locked": true,
     "points": "1",
     "solution": false
    }
   },
   "outputs": [],
   "source": [
    "###\n",
    "### AUTOGRADER TEST - DO NOT REMOVE\n",
    "###\n"
   ]
  },
  {
   "cell_type": "markdown",
   "metadata": {
    "deletable": false,
    "editable": false,
    "nbgrader": {
     "grade": false,
     "locked": true,
     "solution": false
    }
   },
   "source": [
    "### Problem 6.02 ```has_list(ls)```"
   ]
  },
  {
   "cell_type": "markdown",
   "metadata": {
    "deletable": false,
    "editable": false,
    "nbgrader": {
     "grade": false,
     "locked": true,
     "solution": false
    }
   },
   "source": [
    "This function takes in a list ```ls``` as an input. \n",
    "\n",
    "If any element in ```ls``` is a list, this function returns ```True```, otherwise ```False```. \n",
    "\n",
    "---\n",
    "> **NOTE**\n",
    ">\n",
    "> You can execute the built-in function ```isinstance()``` in the following way: ```isinstance(a,list)```.\n",
    ">\n",
    "> ```True``` is returned if object ```a``` is a ```list``` and ```False``` otherwise.\n",
    "> \n",
    "---\n",
    "\n",
    "\n",
    "```python\n",
    "a = [10, 20, [30, 40] , 'apple' ]\n",
    "print(has_list(a))\n",
    "b = [10, 20, 30, 40 , 'apple' ]\n",
    "print(has_list(b))\n",
    "```\n",
    "\n",
    "```python\n",
    "True\n",
    "False\n",
    "```\n",
    "\n",
    "---\n",
    "\n",
    "> #### Hint \n",
    "> You would have to loop through the elements of the list. \n",
    "> Hence, consider very carefully the point at which your function returns ```False```.\n",
    ">\n",
    "> The algorithm is similar to the one used for checking if a number is prime or not in an earlier problem set. \n",
    "\n",
    "---"
   ]
  },
  {
   "cell_type": "code",
   "execution_count": 14,
   "metadata": {},
   "outputs": [
    {
     "name": "stdout",
     "output_type": "stream",
     "text": [
      "True\n",
      "True\n"
     ]
    }
   ],
   "source": [
    "def has_list(ls):\n",
    "    res=False\n",
    "    for element in ls:\n",
    "        if isinstance(element,list):\n",
    "            return isinstance(element,list)\n",
    "    return res\n"
   ]
  },
  {
   "cell_type": "code",
   "execution_count": null,
   "metadata": {
    "collapsed": true,
    "deletable": false,
    "editable": false,
    "nbgrader": {
     "grade": true,
     "grade_id": "6.02test1",
     "locked": true,
     "points": "1",
     "solution": false
    }
   },
   "outputs": [],
   "source": [
    "###\n",
    "### AUTOGRADER TEST - DO NOT REMOVE\n",
    "###\n",
    "\n"
   ]
  },
  {
   "cell_type": "code",
   "execution_count": null,
   "metadata": {
    "collapsed": true,
    "deletable": false,
    "editable": false,
    "nbgrader": {
     "grade": true,
     "grade_id": "6.02test2",
     "locked": true,
     "points": "1",
     "solution": false
    }
   },
   "outputs": [],
   "source": [
    "###\n",
    "### AUTOGRADER TEST - DO NOT REMOVE\n",
    "###\n"
   ]
  },
  {
   "cell_type": "code",
   "execution_count": null,
   "metadata": {
    "collapsed": true,
    "deletable": false,
    "editable": false,
    "nbgrader": {
     "grade": true,
     "grade_id": "6.02test3",
     "locked": true,
     "points": "1",
     "solution": false
    }
   },
   "outputs": [],
   "source": [
    "###\n",
    "### AUTOGRADER TEST - DO NOT REMOVE\n",
    "###\n"
   ]
  },
  {
   "cell_type": "code",
   "execution_count": null,
   "metadata": {
    "collapsed": true,
    "deletable": false,
    "editable": false,
    "nbgrader": {
     "grade": true,
     "grade_id": "6.02test4",
     "locked": true,
     "points": "1",
     "solution": false
    }
   },
   "outputs": [],
   "source": [
    "###\n",
    "### AUTOGRADER TEST - DO NOT REMOVE\n",
    "###\n"
   ]
  },
  {
   "cell_type": "markdown",
   "metadata": {
    "colab_type": "text",
    "deletable": false,
    "editable": false,
    "id": "fqUB8XBwizI6",
    "nbgrader": {
     "grade": false,
     "locked": true,
     "solution": false
    }
   },
   "source": [
    "### Problem 6.03 ```max_list(inlist) ```\n"
   ]
  },
  {
   "cell_type": "markdown",
   "metadata": {
    "colab_type": "text",
    "deletable": false,
    "editable": false,
    "id": "NMOVUYyUThsK",
    "nbgrader": {
     "grade": false,
     "locked": true,
     "solution": false
    }
   },
   "source": [
    "This function takes in a two-level list of lists, ```inlist```. All lists nested within ```inlist``` contain integers. You can assume that ```inlist``` and all nested lists are never empty.\n",
    "\n",
    "It returns a list, ```outlist```, such that ```outlist[i]``` is the highest value in ```inlist[i]```.\n",
    "\n",
    "```python \n",
    "inlist = [[1 ,2 ,3] ,[4 ,5]]\n",
    "print(max_list(inlist))\n",
    "inlist = [[3 ,4 ,5 ,2] ,[1 ,7] ,[8 ,0 , -1] ,[2]]\n",
    "print(max_list(inlist))\n",
    "inlist = [[3 ,4 ,5 ,2]]\n",
    "print(max_list(inlist)) \n",
    "```\n",
    "\n",
    "```python \n",
    "[3, 5]\n",
    "[5, 7, 8, 2]\n",
    "[5]\n",
    "```"
   ]
  },
  {
   "cell_type": "code",
   "execution_count": 16,
   "metadata": {},
   "outputs": [],
   "source": [
    "def max_list(inlist):\n",
    "    out = []\n",
    "    for i in inlist:\n",
    "        out.append(max(i))\n",
    "    return out"
   ]
  },
  {
   "cell_type": "code",
   "execution_count": null,
   "metadata": {
    "collapsed": true,
    "deletable": false,
    "editable": false,
    "nbgrader": {
     "grade": true,
     "grade_id": "6.03test1",
     "locked": true,
     "points": "1",
     "solution": false
    }
   },
   "outputs": [],
   "source": [
    "###\n",
    "### AUTOGRADER TEST - DO NOT REMOVE\n",
    "###\n"
   ]
  },
  {
   "cell_type": "code",
   "execution_count": null,
   "metadata": {
    "collapsed": true,
    "deletable": false,
    "editable": false,
    "nbgrader": {
     "grade": true,
     "grade_id": "6.03test2",
     "locked": true,
     "points": "1",
     "solution": false
    }
   },
   "outputs": [],
   "source": [
    "###\n",
    "### AUTOGRADER TEST - DO NOT REMOVE\n",
    "###\n"
   ]
  },
  {
   "cell_type": "code",
   "execution_count": null,
   "metadata": {
    "collapsed": true,
    "deletable": false,
    "editable": false,
    "nbgrader": {
     "grade": true,
     "grade_id": "6.03test3",
     "locked": true,
     "points": "1",
     "solution": false
    }
   },
   "outputs": [],
   "source": [
    "###\n",
    "### AUTOGRADER TEST - DO NOT REMOVE\n",
    "###\n"
   ]
  },
  {
   "cell_type": "markdown",
   "metadata": {
    "colab_type": "text",
    "deletable": false,
    "editable": false,
    "id": "clfrnjIkU0VI",
    "nbgrader": {
     "grade": false,
     "locked": true,
     "solution": false
    }
   },
   "source": [
    "### Problem 6.04 ```find_average(ls)```\n"
   ]
  },
  {
   "cell_type": "markdown",
   "metadata": {
    "colab_type": "text",
    "deletable": false,
    "editable": false,
    "id": "7Xma-yrOTCtj",
    "nbgrader": {
     "grade": false,
     "locked": true,
     "solution": false
    }
   },
   "source": [
    "This function takes in a list of lists as an input. Each sublist contains numbers. \n",
    "\n",
    "The function returns a list of the averages of each sublist, and the average of all the elements (i.e. add up all the elements and take the average). All averages are rounded to two decimal places. \n",
    "\n",
    "All sublists will have at least one element. \n",
    "\n",
    "```python\n",
    "ls = [[3,4],[5,6,9],[-1,2,8]]\n",
    "ans=find_average(ls) \n",
    "print(ans)\n",
    "```\n",
    "```\n",
    "([3.5, 6.67, 3.0], 4.5)\n",
    "```\n",
    "\n",
    "---\n",
    "> #### Hint\n",
    "> Remember that one strategy for problem solving is to break the problem into smaller parts. How might you do so for this problem?\n",
    ">\n",
    "\n",
    "----\n",
    "\n"
   ]
  },
  {
   "cell_type": "code",
   "execution_count": 83,
   "metadata": {},
   "outputs": [],
   "source": [
    "def find_average(ls):\n",
    "    res=[]\n",
    "    res2=[]\n",
    "    total=0\n",
    "    stuff=0\n",
    "    for i in ls:\n",
    "        s=sum(i)\n",
    "        total+=s\n",
    "        stuff+=len(i)\n",
    "        res2.append(round(s/len(i),2))\n",
    "    res.append(res2)\n",
    "    res.append(round(total/stuff,2))\n",
    "    return res\n"
   ]
  },
  {
   "cell_type": "code",
   "execution_count": null,
   "metadata": {
    "collapsed": true,
    "deletable": false,
    "editable": false,
    "nbgrader": {
     "grade": true,
     "grade_id": "6.04test1",
     "locked": true,
     "points": "2",
     "solution": false
    }
   },
   "outputs": [],
   "source": [
    "###\n",
    "### AUTOGRADER TEST - DO NOT REMOVE\n",
    "###\n"
   ]
  },
  {
   "cell_type": "code",
   "execution_count": null,
   "metadata": {
    "collapsed": true,
    "deletable": false,
    "editable": false,
    "nbgrader": {
     "grade": true,
     "grade_id": "6.04test2",
     "locked": true,
     "points": "2",
     "solution": false
    }
   },
   "outputs": [],
   "source": [
    "###\n",
    "### AUTOGRADER TEST - DO NOT REMOVE\n",
    "###\n"
   ]
  },
  {
   "cell_type": "markdown",
   "metadata": {
    "colab_type": "text",
    "deletable": false,
    "editable": false,
    "id": "z6FosPy1irJ6",
    "nbgrader": {
     "grade": false,
     "locked": true,
     "solution": false
    }
   },
   "source": [
    "### Problem 6.05 ```get_zero_matrix( m, n)```"
   ]
  },
  {
   "cell_type": "markdown",
   "metadata": {
    "colab_type": "text",
    "deletable": false,
    "editable": false,
    "id": "62NkFUEBd9mK",
    "nbgrader": {
     "grade": false,
     "locked": true,
     "solution": false
    }
   },
   "source": [
    "This function takes in integers ```m``` and ```n``` and returns a list of lists that represents an m-by-n matrix with all entries zero. \n",
    "\n",
    "You can assume that ```m``` and ```n``` will be positive integers.\n",
    "\n",
    "```python \n",
    "ls = get_zero_matrix(2, 3)\n",
    "print(ls)\n",
    "ls[1][2] = 7\n",
    "print(ls)\n",
    "```\n",
    "\n",
    "The output is: \n",
    "```\n",
    "[[0, 0, 0], [0, 0, 0]]\n",
    "[[0, 0, 0], [0, 0, 7]]\n",
    "\n",
    "```\n",
    "\n",
    "Two other test cases:\n",
    "```python \n",
    "ls = get_zero_matrix(1, 4)\n",
    "print(ls)\n",
    "ls = get_zero_matrix(3, 1)\n",
    "print(ls) \n",
    "```  \n",
    "with output:\n",
    "```\n",
    "[[0,0,0,0] ]\n",
    "[[0], [0], [0]]\n",
    "```\n",
    "\n",
    "---\n",
    "> #### Consider\n",
    "> The following code is not the right strategy to solve this question. \n",
    "> ```python \n",
    "> x = [ 0 ]*3\n",
    "> ls = [x]*2 \n",
    "> ```\n",
    "> Explain why. \n",
    "\n",
    "---\n"
   ]
  },
  {
   "cell_type": "code",
   "execution_count": 49,
   "metadata": {},
   "outputs": [],
   "source": [
    "def get_zero_matrix(m, n):\n",
    "    out = [0]*n\n",
    "    res=[]\n",
    "    for i in range(m):\n",
    "        oo=out.copy()\n",
    "        res.append(oo)\n",
    "    return res \n"
   ]
  },
  {
   "cell_type": "code",
   "execution_count": null,
   "metadata": {
    "collapsed": true,
    "deletable": false,
    "editable": false,
    "nbgrader": {
     "grade": true,
     "grade_id": "6.05test1",
     "locked": true,
     "points": "1",
     "solution": false
    }
   },
   "outputs": [],
   "source": [
    "###\n",
    "### AUTOGRADER TEST - DO NOT REMOVE\n",
    "###\n"
   ]
  },
  {
   "cell_type": "code",
   "execution_count": null,
   "metadata": {
    "collapsed": true,
    "deletable": false,
    "editable": false,
    "nbgrader": {
     "grade": true,
     "grade_id": "6.05test2",
     "locked": true,
     "points": "1",
     "solution": false
    }
   },
   "outputs": [],
   "source": [
    "###\n",
    "### AUTOGRADER TEST - DO NOT REMOVE\n",
    "###\n"
   ]
  },
  {
   "cell_type": "code",
   "execution_count": null,
   "metadata": {
    "collapsed": true,
    "deletable": false,
    "editable": false,
    "nbgrader": {
     "grade": true,
     "grade_id": "6.05test3",
     "locked": true,
     "points": "1",
     "solution": false
    }
   },
   "outputs": [],
   "source": [
    "###\n",
    "### AUTOGRADER TEST - DO NOT REMOVE\n",
    "###\n"
   ]
  },
  {
   "cell_type": "code",
   "execution_count": null,
   "metadata": {
    "collapsed": true,
    "deletable": false,
    "editable": false,
    "nbgrader": {
     "grade": true,
     "grade_id": "6.05test4",
     "locked": true,
     "points": "1",
     "solution": false
    }
   },
   "outputs": [],
   "source": [
    "###\n",
    "### AUTOGRADER TEST - DO NOT REMOVE\n",
    "###\n"
   ]
  },
  {
   "cell_type": "code",
   "execution_count": null,
   "metadata": {
    "collapsed": true,
    "deletable": false,
    "editable": false,
    "nbgrader": {
     "grade": true,
     "grade_id": "6.05test5",
     "locked": true,
     "points": "1",
     "solution": false
    }
   },
   "outputs": [],
   "source": [
    "###\n",
    "### AUTOGRADER TEST - DO NOT REMOVE\n",
    "###\n"
   ]
  },
  {
   "cell_type": "markdown",
   "metadata": {
    "colab_type": "text",
    "deletable": false,
    "editable": false,
    "id": "JcRvpT_tim5L",
    "nbgrader": {
     "grade": false,
     "locked": true,
     "solution": false
    }
   },
   "source": [
    "### Problem 6.06 ```transpose_matrix( ls)```"
   ]
  },
  {
   "cell_type": "markdown",
   "metadata": {
    "colab_type": "text",
    "deletable": false,
    "editable": false,
    "id": "cEoZfv6JV0hm",
    "nbgrader": {
     "grade": false,
     "locked": true,
     "solution": false
    }
   },
   "source": [
    "This function takes in a nested list ```ls``` that represents a matrix and returns its transpose, also as a nested list. \n",
    "\n",
    "You can assume that all the sublists in ```ls``` have the same length. \n",
    "\n",
    "For example, a matrix \n",
    "$$\n",
    "A = \\begin{bmatrix} \n",
    "1 & 2 & 3 \\\\\n",
    "40 & 50 & 60\n",
    "\\end{bmatrix}\n",
    "$$\n",
    "\n",
    "can be represented by a list of lists as \n",
    "```python\n",
    "A = [ [1 ,  2, 3 ] ,\n",
    "      [40, 50, 60] ]\n",
    "```\n",
    "\n",
    "The steps are as follows: \n",
    "- determine the rows and columns of ls\n",
    "- get an empty matrix that has the correct dimensions of the transpose. You should use the function ```get_zero_matrix()```written earlier.  \n",
    "- write a nested for-loop that carries out the transpose. \n",
    "\n",
    "```python\n",
    " A = [ [1 ,  2, 3 ] ,\n",
    "      [40, 50, 60] ]\n",
    "print(transpose_matrix(A))\n",
    "```\n",
    "\n",
    "```python\n",
    "[[1, 40], [2, 50], [3, 60]]\n",
    "```"
   ]
  },
  {
   "cell_type": "code",
   "execution_count": 55,
   "metadata": {},
   "outputs": [],
   "source": [
    "def get_zero_matrix(m,n):\n",
    "    out = [0]*n\n",
    "    res=[]\n",
    "    for i in range(m):\n",
    "        oo=out.copy()\n",
    "        res.append(oo)\n",
    "    return res \n",
    "    \n",
    "\n",
    "def transpose_matrix(ls):\n",
    "    rows = len(ls)\n",
    "    col = len(ls[0])\n",
    "    mat=get_zero_matrix(col,rows)\n",
    "    for i in range(len(ls)):\n",
    "        for j in range(len(ls[i])):\n",
    "            mat[j][i]=ls[i][j]\n",
    "    return mat\n"
   ]
  },
  {
   "cell_type": "code",
   "execution_count": null,
   "metadata": {
    "collapsed": true,
    "deletable": false,
    "editable": false,
    "nbgrader": {
     "grade": true,
     "grade_id": "6.06test0",
     "locked": true,
     "points": "1",
     "solution": false
    }
   },
   "outputs": [],
   "source": [
    "###\n",
    "### AUTOGRADER TEST - DO NOT REMOVE\n",
    "###\n"
   ]
  },
  {
   "cell_type": "code",
   "execution_count": null,
   "metadata": {
    "collapsed": true,
    "deletable": false,
    "editable": false,
    "nbgrader": {
     "grade": true,
     "grade_id": "6.06test1",
     "locked": true,
     "points": "1",
     "solution": false
    }
   },
   "outputs": [],
   "source": [
    "###\n",
    "### AUTOGRADER TEST - DO NOT REMOVE\n",
    "###\n"
   ]
  },
  {
   "cell_type": "code",
   "execution_count": null,
   "metadata": {
    "collapsed": true,
    "deletable": false,
    "editable": false,
    "nbgrader": {
     "grade": true,
     "grade_id": "6.06test2",
     "locked": true,
     "points": "1",
     "solution": false
    }
   },
   "outputs": [],
   "source": [
    "###\n",
    "### AUTOGRADER TEST - DO NOT REMOVE\n",
    "###\n"
   ]
  },
  {
   "cell_type": "code",
   "execution_count": null,
   "metadata": {
    "collapsed": true,
    "deletable": false,
    "editable": false,
    "nbgrader": {
     "grade": true,
     "grade_id": "6.06test3",
     "locked": true,
     "points": "1",
     "solution": false
    }
   },
   "outputs": [],
   "source": [
    "###\n",
    "### AUTOGRADER TEST - DO NOT REMOVE\n",
    "###\n"
   ]
  },
  {
   "cell_type": "code",
   "execution_count": null,
   "metadata": {
    "collapsed": true,
    "deletable": false,
    "editable": false,
    "nbgrader": {
     "grade": true,
     "grade_id": "6.06test4",
     "locked": true,
     "points": "1",
     "solution": false
    }
   },
   "outputs": [],
   "source": [
    "###\n",
    "### AUTOGRADER TEST - DO NOT REMOVE\n",
    "###\n"
   ]
  },
  {
   "cell_type": "markdown",
   "metadata": {
    "colab_type": "text",
    "deletable": false,
    "editable": false,
    "id": "JcRvpT_tim5L",
    "nbgrader": {
     "grade": false,
     "locked": true,
     "solution": false
    }
   },
   "source": [
    "### Problem 6.07a  ```scalar_multiply(ls, a)```"
   ]
  },
  {
   "cell_type": "markdown",
   "metadata": {
    "colab_type": "text",
    "deletable": false,
    "editable": false,
    "id": "cEoZfv6JV0hm",
    "nbgrader": {
     "grade": false,
     "locked": true,
     "solution": false
    }
   },
   "source": [
    "This function takes in a list of lists  ```ls``` that represents a matrix, and multiplies every element by the numerical value ```a```. \n",
    "\n",
    "This operation is conducted **in-place**. \n",
    "\n",
    "You can assume that all the sublists in ```ls``` have the same length. \n",
    "\n",
    "```python\n",
    " A = [ [10, 20, 30 ] ,\n",
    "      [40, 50, 60] ]\n",
    "scalar_multiply(A, 0.2)\n",
    "print(A)\n",
    "```\n",
    "\n",
    "```python\n",
    "[[2.0, 4.0, 6.0], [8.0, 10.0, 12.0]]\n",
    "```"
   ]
  },
  {
   "cell_type": "code",
   "execution_count": 58,
   "metadata": {},
   "outputs": [
    {
     "name": "stdout",
     "output_type": "stream",
     "text": [
      "[[2.0, 4.0, 6.0], [8.0, 10.0, 12.0]]\n"
     ]
    }
   ],
   "source": [
    "def scalar_multiply(ls, a):\n",
    "    rows = len(ls)\n",
    "    for i in range(rows):\n",
    "        for j in range(len(ls[i])):\n",
    "            ls[i][j]*=a\n",
    "    return ls\n",
    "\n",
    "A = [ [10 , 20, 30 ] ,\n",
    "      [40, 50, 60] ]\n",
    "scalar_multiply(A, 0.2)\n",
    "print(A)"
   ]
  },
  {
   "cell_type": "code",
   "execution_count": null,
   "metadata": {
    "collapsed": true,
    "deletable": false,
    "editable": false,
    "nbgrader": {
     "grade": true,
     "grade_id": "6.07atest1",
     "locked": true,
     "points": "1",
     "solution": false
    }
   },
   "outputs": [],
   "source": [
    "###\n",
    "### AUTOGRADER TEST - DO NOT REMOVE\n",
    "###\n"
   ]
  },
  {
   "cell_type": "code",
   "execution_count": null,
   "metadata": {
    "collapsed": true,
    "deletable": false,
    "editable": false,
    "nbgrader": {
     "grade": true,
     "grade_id": "6.07atest2",
     "locked": true,
     "points": "1",
     "solution": false
    }
   },
   "outputs": [],
   "source": [
    "###\n",
    "### AUTOGRADER TEST - DO NOT REMOVE\n",
    "###\n"
   ]
  },
  {
   "cell_type": "markdown",
   "metadata": {
    "colab_type": "text",
    "deletable": false,
    "editable": false,
    "id": "JcRvpT_tim5L",
    "nbgrader": {
     "grade": false,
     "locked": true,
     "solution": false
    }
   },
   "source": [
    "### Problem 6.07b  ```scalar_multiply_new(ls, a)```"
   ]
  },
  {
   "cell_type": "markdown",
   "metadata": {
    "colab_type": "text",
    "deletable": false,
    "editable": false,
    "id": "cEoZfv6JV0hm",
    "nbgrader": {
     "grade": false,
     "locked": true,
     "solution": false
    }
   },
   "source": [
    "This function takes in a list of lists  ```ls``` that represents a matrix. \n",
    "\n",
    "**It returns a new list**, where each element in this list is equivalent to the corresponding element in ```ls``` multiplied by numerical value ```a```.  \n",
    "\n",
    "You can assume that all the sublists in ```ls``` have the same length. \n",
    "\n",
    "```python\n",
    "A = [ [10, 20, 30 ] ,\n",
    "      [40, 50, 60] ]\n",
    "B = scalar_multiply(A, 0.2)\n",
    "print(A)\n",
    "print(B)\n",
    "```\n",
    "\n",
    "```python\n",
    "[[10, 20, 30], [40, 50, 60]]\n",
    "[[2.0, 4.0, 6.0], [8.0, 10.0, 12.0]]\n",
    "```"
   ]
  },
  {
   "cell_type": "code",
   "execution_count": 77,
   "metadata": {},
   "outputs": [
    {
     "name": "stdout",
     "output_type": "stream",
     "text": [
      "[[10, 20, 30], [40, 50, 60]]\n",
      "[[0, 0, 0], [0, 0, 0]]\n"
     ]
    }
   ],
   "source": [
    "### import any necessary libraries you need \n",
    "### or re-use any function written earlier \n",
    "import copy\n",
    "def scalar_multiply_new(ls, a):\n",
    "    l2=copy.deepcopy(ls)\n",
    "    rows = len(l2)\n",
    "    for i in range(rows):\n",
    "        for j in range(len(l2[i])):\n",
    "            l2[i][j]*=a\n",
    "    return l2\n",
    "\n"
   ]
  },
  {
   "cell_type": "code",
   "execution_count": null,
   "metadata": {
    "collapsed": true,
    "deletable": false,
    "editable": false,
    "nbgrader": {
     "grade": true,
     "grade_id": "6.07btest1",
     "locked": true,
     "points": "1",
     "solution": false
    }
   },
   "outputs": [],
   "source": [
    "###\n",
    "### AUTOGRADER TEST - DO NOT REMOVE\n",
    "###\n"
   ]
  },
  {
   "cell_type": "code",
   "execution_count": null,
   "metadata": {
    "collapsed": true,
    "deletable": false,
    "editable": false,
    "nbgrader": {
     "grade": true,
     "grade_id": "6.07btest2",
     "locked": true,
     "points": "1",
     "solution": false
    }
   },
   "outputs": [],
   "source": [
    "###\n",
    "### AUTOGRADER TEST - DO NOT REMOVE\n",
    "###\n"
   ]
  }
 ],
 "metadata": {
  "colab": {
   "name": "Lesson 6.ipynb",
   "provenance": []
  },
  "kernelspec": {
   "display_name": "Python 3 [3.10]",
   "language": "python",
   "name": "python3"
  },
  "language_info": {
   "codemirror_mode": {
    "name": "ipython",
    "version": 3
   },
   "file_extension": ".py",
   "mimetype": "text/x-python",
   "name": "python",
   "nbconvert_exporter": "python",
   "pygments_lexer": "ipython3",
   "version": "3.10.2"
  }
 },
 "nbformat": 4,
 "nbformat_minor": 1
}
